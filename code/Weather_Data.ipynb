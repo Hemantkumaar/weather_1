{
 "cells": [
  {
   "cell_type": "markdown",
   "id": "da625c6d",
   "metadata": {},
   "source": [
    "# Weather Data — Monthly Rainfall (2018–2022)\n",
    "\n",
    "This notebook compares monthly precipitation totals for Seattle, St. Louis, and New York City.\n",
    "\n",
    "CSV files expected in `../data/` folder. The generated plot will be saved into `../reports/monthly_rainfall_2018_2022.png`. Keep this notebook in the `code/` folder so relative paths work."
   ]
  },
  {
   "cell_type": "code",
   "execution_count": null,
   "id": "4337e037",
   "metadata": {},
   "outputs": [],
   "source": [
    "import pandas as pd\n",
    "import matplotlib.pyplot as plt\n",
    "\n",
    "# Larger plots\n",
    "plt.rcParams['figure.figsize'] = (12,6)"
   ]
  },
  {
   "cell_type": "code",
   "execution_count": null,
   "id": "686a90cd",
   "metadata": {},
   "outputs": [],
   "source": [
    "# File paths (adjust if needed)\n",
    "SEATTLE_CSV = '../data/seattle_rain.csv'\n",
    "STL_CSV     = '../data/stl_rain.csv'\n",
    "NYC_CSV     = '../data/nyc_rain.csv'\n",
    "\n",
    "seattle = pd.read_csv(SEATTLE_CSV, parse_dates=['DATE'])\n",
    "stl     = pd.read_csv(STL_CSV,     parse_dates=['DATE'])\n",
    "nyc     = pd.read_csv(NYC_CSV,     parse_dates=['DATE'])\n",
    "\n",
    "# Convert units\n",
    "seattle['PRCP_IN'] = seattle['PRCP'].astype(float)  # inches\n",
    "stl['PRCP_IN']     = stl['PRCP'].astype(float) / 25.4  # mm -> inches\n",
    "nyc['PRCP_IN']     = nyc['PRCP'].astype(float)          # inches\n",
    "\n",
    "# Monthly totals\n",
    "s_month = seattle.set_index('DATE')['PRCP_IN'].resample('M').sum()\n",
    "t_month = stl.set_index('DATE')['PRCP_IN'].resample('M').sum()\n",
    "n_month = nyc.set_index('DATE')['PRCP_IN'].resample('M').sum()\n",
    "\n",
    "print('Monthly mean precipitation (inches):')\n",
    "print(f'  Seattle   : {s_month.mean():.2f}')\n",
    "print(f'  St. Louis : {t_month.mean():.2f}')\n",
    "print(f'  NYC       : {n_month.mean():.2f}')"
   ]
  },
  {
   "cell_type": "code",
   "execution_count": null,
   "id": "485b7d32",
   "metadata": {},
   "outputs": [],
   "source": [
    "# Plot and save\n",
    "ax = s_month.plot(label='Seattle')\n",
    "t_month.plot(ax=ax, label='St. Louis')\n",
    "n_month.plot(ax=ax, label='New York City')\n",
    "\n",
    "ax.set_title('Monthly Rainfall Totals (2018–2022)')\n",
    "ax.set_xlabel('Month')\n",
    "ax.set_ylabel('Precipitation (inches)')\n",
    "ax.legend()\n",
    "plt.tight_layout()\n",
    "\n",
    "plt.savefig('../reports/monthly_rainfall_2018_2022.png', dpi=300)\n",
    "plt.show()"
   ]
  },
  {
   "cell_type": "markdown",
   "id": "25da6c7c",
   "metadata": {},
   "source": [
    "### Notes\n",
    "- If St. Louis CSV is already inches, remove `/ 25.4`.\n",
    "- If NYC is millimeters, add `/ 25.4`.\n",
    "- Slice data by date if needed, e.g. `s_month['2018':'2022']`."
   ]
  }
 ],
 "metadata": {},
 "nbformat": 4,
 "nbformat_minor": 5
}
